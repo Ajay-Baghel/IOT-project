{
 "cells": [
  {
   "cell_type": "code",
   "execution_count": 102,
   "id": "dd89d5ef",
   "metadata": {},
   "outputs": [],
   "source": [
    "import math, time\n",
    "import numpy as np\n",
    "from matplotlib import pyplot as plt\n",
    "from matplotlib.animation import FuncAnimation\n",
    "from mpl_toolkits.mplot3d import Axes3D\n",
    "import pandas as pd\n",
    "import random\n",
    "# from nmraNew import *"
   ]
  },
  {
   "cell_type": "code",
   "execution_count": 103,
   "id": "5ace5222",
   "metadata": {},
   "outputs": [],
   "source": [
    "#constants"
   ]
  },
  {
   "cell_type": "code",
   "execution_count": 104,
   "id": "c41a985d",
   "metadata": {},
   "outputs": [],
   "source": [
    "no_of_movements = 5"
   ]
  },
  {
   "cell_type": "markdown",
   "id": "85cda257",
   "metadata": {},
   "source": [
    "## Sensor Class"
   ]
  },
  {
   "cell_type": "code",
   "execution_count": 105,
   "id": "704e4d44",
   "metadata": {},
   "outputs": [],
   "source": [
    "class sensor:\n",
    "    def __init__(self, type, x, y, x_e = 0, y_e = 0):\n",
    "        self.type = type\n",
    "        self.x = x\n",
    "        self.y = y\n",
    "        self.x_e = x_e\n",
    "        self.y_e = y_e"
   ]
  },
  {
   "cell_type": "markdown",
   "id": "5cda30fc",
   "metadata": {},
   "source": [
    "### Optimization function"
   ]
  },
  {
   "cell_type": "code",
   "execution_count": 106,
   "id": "91948c5c",
   "metadata": {},
   "outputs": [],
   "source": [
    "def Fun(x,y, anchors, d):\n",
    "    f = 0\n",
    "    for i in range(3):\n",
    "        # print(anchors[i].x,anchors[i].y )\n",
    "        f +=  math.pow(math.sqrt(math.pow((x-anchors[i][0]),2) + math.pow((y-anchors[i][1]),2)) - d,2)\n",
    "        # print(f)\n",
    "    return f/3"
   ]
  },
  {
   "cell_type": "markdown",
   "id": "82277869",
   "metadata": {},
   "source": [
    "## NMRA"
   ]
  },
  {
   "cell_type": "code",
   "execution_count": 107,
   "id": "0a049762",
   "metadata": {},
   "outputs": [],
   "source": [
    "def NMRA(x_lb,x_ub,y_lb,y_ub,maxIter,best,n,anchors):\n",
    "    rats=[]\n",
    "    workers=n-n//5\n",
    "    breeders=n//5\n",
    "    fitness=[]\n",
    "    bp=0.5\n",
    "    d = (x_ub-x_lb)/2\n",
    "    for i in range(n):\n",
    "        x1=x_lb+np.random.random()*(x_ub-x_lb)\n",
    "        y1=y_lb+np.random.random()*(y_ub-y_lb)\n",
    "        rats.append([x1,y1])\n",
    "        fitness.append(Fun(x1,y1,anchors,d))\n",
    "    I=fitness.index(min(fitness))\n",
    "    ratBest=rats[I]\n",
    "    # print(fitness)\n",
    "    \n",
    "    best=fitness[I]\n",
    "    sorted_fitness = []\n",
    "    for i in range(n):\n",
    "        l = [fitness[i],i]\n",
    "        sorted_fitness.append(l)\n",
    "\n",
    "    changes=[]\n",
    "    sorted_fitness.sort()\n",
    "    # print(sorted_fitness)\n",
    "    for itr in range(maxIter):\n",
    "        S = rats\n",
    "        tmp=rats\n",
    "        # print(rats)\n",
    "        \n",
    "        # Workers phase\n",
    "        for i in range(breeders, n):\n",
    "            ab = []\n",
    "            for j in range(breeders, n):\n",
    "                ab.append(sorted_fitness[j][1])\n",
    "            idx = sorted_fitness[i][1]\n",
    "            lmda = np.random.random()\n",
    "            random.shuffle(ab)\n",
    "            S[idx][0] = S[idx][0] + lmda * (S[ab[0]][0] - S[ab[1]][0])\n",
    "            S[idx][1] = S[idx][1] + lmda * (S[ab[0]][1] - S[ab[1]][1])\n",
    "            # Calculating and updating new fitness and rat's coordinates\n",
    "            fnew = Fun(S[idx][0], S[idx][1], anchors, d)\n",
    "            if fnew < fitness[idx]:\n",
    "                fitness[idx] = fnew\n",
    "                rats[idx]= S[idx]\n",
    "        \n",
    "        # Breeders phase\n",
    "        for i in range(breeders):\n",
    "            if np.random.random() > bp:\n",
    "                lmda = np.random.random()\n",
    "                idx = sorted_fitness[i][1]\n",
    "                \n",
    "                S[idx][0] = (1-lmda)*S[idx][0] + lmda*(ratBest[0] - S[idx][0])\n",
    "                S[idx][1] = (1-lmda)*S[idx][1] + lmda*(ratBest[1] - S[idx][1])\n",
    "                fnew = Fun(S[idx][0], S[idx][1], anchors, d)\n",
    "                if fnew < fitness[idx]:\n",
    "                    fitness[idx] = fnew\n",
    "                    rats[idx]= S[idx]\n",
    "        \n",
    "        \n",
    "\n",
    "\n",
    "        # updating the sorted_fitness list\n",
    "        sorted_fitness = []\n",
    "        for i in range(n):\n",
    "            l = [fitness[i],i]\n",
    "            sorted_fitness.append(l)\n",
    "        sorted_fitness.sort()\n",
    "    \n",
    "    idr=sorted_fitness[0][1]\n",
    "        \n",
    "    \n",
    "    return rats[idr]"
   ]
  },
  {
   "cell_type": "markdown",
   "id": "f8dd3112",
   "metadata": {},
   "source": [
    "### Function to find virtual anchors"
   ]
  },
  {
   "cell_type": "code",
   "execution_count": 108,
   "id": "8fa80658",
   "metadata": {},
   "outputs": [],
   "source": [
    "def find_virtual_anchors(x,y,d):\n",
    "    anchors=[]\n",
    "    anchors.append([x+d*np.cos(np.pi/3),y+d*np.sin(np.pi/3)])\n",
    "    anchors.append([x+d,y])\n",
    "    anchors.append([x-d,y]);\n",
    "    anchors.append([x+d*np.cos(np.pi/3),y-d*np.sin(np.pi/3)]);\n",
    "    anchors.append([x-d*np.cos(np.pi/3),y-d*np.sin(np.pi/3)]);\n",
    "    anchors.append([x-d*np.cos(np.pi/3),y+d*np.sin(np.pi/3)]);\n",
    "    return anchors"
   ]
  },
  {
   "cell_type": "code",
   "execution_count": 109,
   "id": "9d06eb30",
   "metadata": {},
   "outputs": [],
   "source": [
    "anchor1 = sensor('anchor',7.5,7.5)"
   ]
  },
  {
   "cell_type": "code",
   "execution_count": 110,
   "id": "43c324ae",
   "metadata": {},
   "outputs": [],
   "source": [
    "# finding virtual anchors\n",
    "virtual_anchors=find_virtual_anchors(anchor1.x,anchor1.y,4.5)\n",
    "virtual_anchors=np.array(virtual_anchors)\n",
    "x,y=virtual_anchors.T"
   ]
  },
  {
   "cell_type": "code",
   "execution_count": 111,
   "id": "f9ce25ec",
   "metadata": {},
   "outputs": [],
   "source": [
    "x_target=np.random.uniform(0,15,5)\n",
    "y_target=np.random.uniform(0,15,5)"
   ]
  },
  {
   "cell_type": "markdown",
   "id": "77d06081",
   "metadata": {},
   "source": [
    "### Plotting and localization"
   ]
  },
  {
   "cell_type": "code",
   "execution_count": 112,
   "id": "5f7a94f8",
   "metadata": {
    "scrolled": false
   },
   "outputs": [
    {
     "name": "stdout",
     "output_type": "stream",
     "text": [
      "[ 9.56688061e-15 -2.51592826e-09  1.86168072e-06  8.16820072e-16\n",
      "  3.89878726e-07] [ 1.92505245e-15 -1.73685421e-09  8.22878996e-07 -2.46807789e-16\n",
      "  7.97077705e-07]\n",
      "[ 1.64293093e-04  2.08176027e-13  1.86514534e-11 -1.01749634e-08\n",
      "  2.03504959e-04] [ 3.54462336e-05 -1.97371884e-14 -1.52737360e-11 -4.87217368e-09\n",
      " -1.91560323e-05]\n",
      "[-4.50402528e-12 -4.81155997e-09  8.03886068e-10  1.60875904e-11\n",
      "  1.66465405e-05] [4.31926425e-12 3.92797855e-10 1.48848104e-09 4.42492994e-11\n",
      " 9.68113613e-06]\n",
      "[ 1.73058439e-07 -1.38255565e-07  1.31252367e-09  1.70935007e-08\n",
      " -1.75722401e-06] [ 2.80021879e-08  5.76820307e-08  2.46452302e-09 -7.33753745e-09\n",
      "  1.15756404e-07]\n",
      "[1.48012336e-11 2.09288795e-09 2.71099420e-06 3.30856076e-10\n",
      " 1.30056128e-08] [4.75104554e-11 4.20475113e-09 2.28173617e-06 8.22437929e-10\n",
      " 2.33059304e-08]\n"
     ]
    }
   ],
   "source": [
    "for i in range(no_of_movements):\n",
    "    x_target[i]+=0.1*random.randint(-5,5)\n",
    "    y_target[i]+=0.1*random.randint(-5,5)\n",
    "    if x_target[i]<0 or x_target[i]>15:\n",
    "        x_target[i]=random.randint(0,15)\n",
    "    if y_target[i]<0 or y_target[i]>15:\n",
    "        y_target[i]=random.randint(0,15)\n",
    "    \n",
    "    coordinates = []\n",
    "    \n",
    "    for i in range(5):\n",
    "        d=math.dist([x_target[i],y_target[i]],[anchor1.x,anchor1.y]);\n",
    "        virtual_anchors=find_virtual_anchors(anchor1.x,anchor1.y,d)\n",
    "        va_dist=[]\n",
    "        for j in range(len(virtual_anchors)):\n",
    "            dist=math.dist([x_target[i],y_target[i]],[virtual_anchors[j][0],virtual_anchors[j][1]])\n",
    "            l=[dist,j]\n",
    "            va_dist.append(l)\n",
    "        va_dist.sort()\n",
    "        idx1,idx2=va_dist[0][1],va_dist[1][1]\n",
    "        va1,va2=virtual_anchors[idx1],virtual_anchors[idx2]\n",
    "        \n",
    "        centeroid_x,centeroid_y=(va1[0]+va2[0]+anchor1.x)/3,(va1[1]+va2[1]+anchor1.y)/3\n",
    "        \n",
    "        coordinates.append(NMRA(centeroid_x-d,centeroid_x+d,centeroid_y-d,centeroid_y+d,50,3,100,[[anchor1.x,anchor1.y],va1,va2]))\n",
    "#     print(coordinates,[x_target[i],y_target[i]])\n",
    "    coordinates = np.array(coordinates)\n",
    "    estimated_x, estimated_y = coordinates.T\n",
    "    print(estimated_x, estimated_y)\n",
    "    \n",
    "    plt.scatter(x_target,y_target)\n",
    "    plt.scatter(estimated_x, estimated_y)\n",
    "    plt.show()"
   ]
  },
  {
   "cell_type": "code",
   "execution_count": 113,
   "id": "4147e570",
   "metadata": {
    "scrolled": false
   },
   "outputs": [],
   "source": [
    "# # plotting graph for virtual and target nodes\n",
    "# # %matplotlib notebook\n",
    "\n",
    "# fig,ax=plt.subplots()\n",
    "# scatter=ax.scatter(x,y)\n",
    "# ax.set_xlim([0,15])\n",
    "# ax.set_ylim([0,15])\n",
    "# def update(itr):\n",
    "#     global x_target\n",
    "#     global y_target,x,y\n",
    "    \n",
    "#     # Adding random movement to the target nodes\n",
    "#     for i in range(5):\n",
    "#         x_target[i]+=0.1*random.randint(-5,5)\n",
    "#         y_target[i]+=0.1*random.randint(-5,5)\n",
    "#         if x_target[i]<0 or x_target[i]>15:\n",
    "#             x_target[i]=random.randint(0,15)\n",
    "#         if y_target[i]<0 or y_target[i]>15:\n",
    "#             y_target[i]=random.randint(0,15)\n",
    "\n",
    "#     for i in range(5):\n",
    "#         d=math.dist([x_target[i],y_target[i]],[anchor1.x,anchor1.y]);\n",
    "#         virtual_anchors=find_virtual_anchors(anchor1.x,anchor1.y,d)\n",
    "#         va_dist=[]\n",
    "#         for j in range(len(virtual_anchors)):\n",
    "#             dist=math.dist([x_target[i],y_target[i]],[virtual_anchors[j][0],virtual_anchors[j][1]])\n",
    "#             l=[dist,j]\n",
    "#             va_dist.append(l)\n",
    "#         va_dist.sort()\n",
    "#         idx1,idx2=va_dist[0][1],va_dist[1][1]\n",
    "#         va1,va2=virtual_anchors[idx1],virtual_anchors[idx2]\n",
    "#         centeroid_x,centeroid_y=(va1[0]+va2[0]+anchor1.x)/3,(va1[1]+va2[1]+anchor1.y)/2\n",
    "#         coordiantes=NMRA(centeroid_x-d,centeroid_x+d,centeroid_y-d,centeroid_y+d,50,3,100,[[anchor1.x,anchor1.y],va1,va2])\n",
    "#         print(coordiantes,[x_target[i],y_target[i]])\n",
    "#     plt.cla()\n",
    "#     ax.set_xlim([0,15])\n",
    "#     ax.set_ylim([0,15])\n",
    "#     ax.scatter([7.5],[7.5],c='yellow')\n",
    "#     ax.scatter(x,y)\n",
    "#     ax.scatter(x_target,y_target,marker='^')\n",
    "# ani=FuncAnimation(fig=fig,func=update,interval=1000)    \n",
    "# plt.show()"
   ]
  },
  {
   "cell_type": "code",
   "execution_count": null,
   "id": "8a8273b4",
   "metadata": {},
   "outputs": [],
   "source": []
  }
 ],
 "metadata": {
  "kernelspec": {
   "display_name": "Python 3 (ipykernel)",
   "language": "python",
   "name": "python3"
  },
  "language_info": {
   "codemirror_mode": {
    "name": "ipython",
    "version": 3
   },
   "file_extension": ".py",
   "mimetype": "text/x-python",
   "name": "python",
   "nbconvert_exporter": "python",
   "pygments_lexer": "ipython3",
   "version": "3.9.13"
  }
 },
 "nbformat": 4,
 "nbformat_minor": 5
}
